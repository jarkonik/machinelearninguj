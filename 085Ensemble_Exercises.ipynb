{
 "cells": [
  {
   "cell_type": "markdown",
   "metadata": {},
   "source": [
    "# Ensemble methods. Exercises\n",
    "\n",
    "\n",
    "In this section we have only two exercise:\n",
    "\n",
    "1. Find the best three classifier in the stacking method using the classifiers from scikit-learn package.\n",
    "\n",
    "2. Build arcing arc-x4 method. "
   ]
  },
  {
   "cell_type": "code",
   "execution_count": 76,
   "metadata": {},
   "outputs": [],
   "source": [
    "%store -r data_set\n",
    "%store -r labels\n",
    "%store -r test_data_set\n",
    "%store -r test_labels\n",
    "%store -r unique_labels"
   ]
  },
  {
   "cell_type": "markdown",
   "metadata": {},
   "source": [
    "## Exercise 1: Find the best three classifier in the stacking method\n",
    "\n",
    "Please use the following classifiers:\n",
    "\n",
    "* Linear regression,\n",
    "* Nearest Neighbors,\n",
    "* Linear SVM,\n",
    "* Decision Tree,\n",
    "* Naive Bayes,\n",
    "* QDA."
   ]
  },
  {
   "cell_type": "code",
   "execution_count": 77,
   "metadata": {},
   "outputs": [],
   "source": [
    "import numpy as np\n",
    "from sklearn.metrics import accuracy_score\n",
    "import itertools\n",
    "\n",
    "from sklearn.linear_model import LinearRegression\n",
    "from sklearn.neighbors import KNeighborsClassifier\n",
    "from sklearn.svm import SVC\n",
    "from sklearn.tree import DecisionTreeClassifier\n",
    "from sklearn.naive_bayes import GaussianNB\n",
    "from sklearn.discriminant_analysis import QuadraticDiscriminantAnalysis"
   ]
  },
  {
   "cell_type": "code",
   "execution_count": 78,
   "metadata": {},
   "outputs": [],
   "source": [
    "def build_classifiers():\n",
    "    return [\n",
    "        ['linear regression', LinearRegression().fit(data_set, labels)],\n",
    "        ['kneighbors', KNeighborsClassifier().fit(data_set, labels)],\n",
    "        ['svc', SVC().fit(data_set, labels)],\n",
    "        ['descision tree', DecisionTreeClassifier().fit(data_set, labels)],\n",
    "        ['gaussian nb', GaussianNB().fit(data_set, labels)],\n",
    "        ['quatratic discriminant', QuadraticDiscriminantAnalysis().fit(data_set, labels)]\n",
    "    ]"
   ]
  },
  {
   "cell_type": "code",
   "execution_count": 79,
   "metadata": {},
   "outputs": [],
   "source": [
    "def build_stacked_classifier(classifiers):\n",
    "    output = []\n",
    "    for classifier in classifiers:\n",
    "        output.append(classifier.predict(data_set))\n",
    "    output = np.array(output).reshape((130,3))\n",
    "    \n",
    "    # stacked classifier part:\n",
    "    stacked_classifier = DecisionTreeClassifier()\n",
    "    stacked_classifier.fit(output.reshape((130,3)), labels.reshape((130,)))\n",
    "    test_set = []\n",
    "    for classifier in classifiers:\n",
    "        test_set.append(classifier.predict(test_data_set))\n",
    "    test_set = np.array(test_set).reshape((len(test_set[0]),3))\n",
    "    predicted = stacked_classifier.predict(test_set)\n",
    "    return predicted"
   ]
  },
  {
   "cell_type": "code",
   "execution_count": 80,
   "metadata": {},
   "outputs": [
    {
     "name": "stdout",
     "output_type": "stream",
     "text": [
      "Best classifiers:\n",
      "0.95 ['svc', 'descision tree', 'quatratic discriminant']\n"
     ]
    },
    {
     "name": "stderr",
     "output_type": "stream",
     "text": [
      "C:\\Users\\konik\\Anaconda3\\lib\\site-packages\\sklearn\\svm\\base.py:196: FutureWarning: The default value of gamma will change from 'auto' to 'scale' in version 0.22 to account better for unscaled features. Set gamma explicitly to 'auto' or 'scale' to avoid this warning.\n",
      "  \"avoid this warning.\", FutureWarning)\n"
     ]
    }
   ],
   "source": [
    "classifiers = build_classifiers()\n",
    "\n",
    "best_acc = 0\n",
    "best_comb = []\n",
    "\n",
    "for combination in itertools.combinations(classifiers, 3):\n",
    "    predicted = build_stacked_classifier([el[1] for el in combination])\n",
    "    accuracy = accuracy_score(test_labels, predicted)\n",
    "    if accuracy > best_acc:\n",
    "        best_acc = accuracy\n",
    "        best_comb = combination\n",
    "        \n",
    "print(\"Best classifiers:\")\n",
    "print(best_acc, [el[0] for el in best_comb])\n",
    "        "
   ]
  },
  {
   "cell_type": "markdown",
   "metadata": {},
   "source": [
    "## Exercise 2: \n",
    "\n",
    "Use the boosting method and change the code to fullfilt the following requirements:\n",
    "\n",
    "* the weights should be calculated as:\n",
    "$w_{n}^{(t+1)}=\\frac{1+ I(y_{n}\\neq h_{t}(x_{n})}{\\sum_{i=1}^{N}1+I(y_{n}\\neq h_{t}(x_{n})}$,\n",
    "* the prediction is done with a voting method."
   ]
  },
  {
   "cell_type": "code",
   "execution_count": 103,
   "metadata": {},
   "outputs": [],
   "source": [
    "import numpy as np\n",
    "from sklearn.tree import DecisionTreeClassifier\n",
    "\n",
    "# prepare data set\n",
    "\n",
    "def generate_data(sample_number, feature_number, label_number):\n",
    "    data_set = np.random.random_sample((sample_number, feature_number))\n",
    "    labels = np.random.choice(label_number, sample_number)\n",
    "    return data_set, labels\n",
    "\n",
    "labels = 2\n",
    "dimension = 2\n",
    "test_set_size = 1000\n",
    "train_set_size = 5000\n",
    "train_set, train_labels = generate_data(train_set_size, dimension, labels)\n",
    "test_set, test_labels = generate_data(test_set_size, dimension, labels)\n",
    "\n",
    "# init weights\n",
    "number_of_iterations = 10\n",
    "weights = np.ones((test_set_size,)) / test_set_size\n",
    "\n",
    "\n",
    "def train_model(classifier, weights):\n",
    "    return classifier.fit(X=test_set, y=test_labels, sample_weight=weights)\n",
    "\n",
    "def calculate_error(model):\n",
    "    predicted = model.predict(test_set)\n",
    "    I=calculate_accuracy_vector(predicted, test_labels)\n",
    "    Z=np.sum(I)\n",
    "    return (1+Z)/1.0\n",
    "\n"
   ]
  },
  {
   "cell_type": "markdown",
   "metadata": {},
   "source": [
    "Fill the two functions below:"
   ]
  },
  {
   "cell_type": "code",
   "execution_count": 127,
   "metadata": {},
   "outputs": [],
   "source": [
    "# \"Arc-x4, which combines the classifiers using majority voting and updates the probabilities\n",
    "# {p(n)} as follows: at the kth step, train classifier Ck on the resampled set T k, then run\n",
    "# the original training set T down Ck and let m(n) be the total number of of times the nth\n",
    "# training case is misclassified by C1, ... , Ck, the classifiers constructed so far. Then update\n",
    "# the probabilities {p(n)} for the next step as follows:(...) - http://www.cs.toronto.edu/~glazer/doc/MLProjectReport.pdf\"\n",
    "\n",
    "error_acc = np.zeros(len(weights))\n",
    "\n",
    "def calculate_accuracy_vector(predicted, labels):\n",
    "    result = []\n",
    "    for i in range(len(predicted)):\n",
    "        if predicted[i] == test_labels[i]:\n",
    "            result.append(0)\n",
    "        else:\n",
    "            result.append(1)\n",
    "    return result\n",
    "\n",
    "def set_new_weights(model):\n",
    "    global error_acc\n",
    "    err = calculate_error(model)\n",
    "    error_acc = error_acc + err\n",
    "    \n",
    "    new_weights = np.zeros((test_set_size,))\n",
    "    \n",
    "    error_sum = 0\n",
    "    for i in range(len(weights)):\n",
    "        error_sum += (1 + error_acc[i] ** 4) \n",
    "    \n",
    "    for i in range(len(weights)):\n",
    "        new_weights[i] = (1 + error_acc[i] ** 4) / error_sum \n",
    "        \n",
    "    return new_weights\n",
    "       \n",
    "\n",
    "def calculate_error(model):\n",
    "    predicted = model.predict(test_set)\n",
    "    return calculate_accuracy_vector(predicted, test_labels)"
   ]
  },
  {
   "cell_type": "markdown",
   "metadata": {},
   "source": [
    "Train the classifier with the code below:"
   ]
  },
  {
   "cell_type": "code",
   "execution_count": 144,
   "metadata": {},
   "outputs": [
    {
     "name": "stdout",
     "output_type": "stream",
     "text": [
      "[0.0010324  0.0010324  0.0006774  0.0010324  0.0010324  0.0010324\n",
      " 0.0010324  0.0010324  0.0010324  0.0010324  0.0010324  0.0006774\n",
      " 0.0010324  0.0010324  0.0010324  0.0010324  0.0010324  0.0010324\n",
      " 0.0010324  0.00151149 0.0010324  0.0006774  0.0010324  0.0010324\n",
      " 0.0010324  0.0006774  0.0010324  0.00151149 0.0006774  0.0010324\n",
      " 0.0010324  0.0010324  0.0010324  0.0010324  0.00151149 0.0010324\n",
      " 0.0010324  0.0010324  0.0010324  0.0010324  0.0006774  0.0010324\n",
      " 0.0010324  0.00151149 0.0010324  0.0010324  0.0010324  0.0010324\n",
      " 0.0006774  0.0010324  0.0006774  0.0010324  0.0010324  0.0010324\n",
      " 0.0010324  0.0010324  0.0010324  0.0006774  0.0010324  0.0010324\n",
      " 0.0006774  0.0010324  0.0010324  0.0010324  0.0010324  0.0010324\n",
      " 0.0010324  0.0010324  0.0010324  0.0010324  0.0010324  0.0010324\n",
      " 0.0010324  0.0006774  0.0010324  0.0010324  0.0010324  0.0010324\n",
      " 0.0010324  0.0006774  0.0010324  0.0010324  0.0010324  0.0010324\n",
      " 0.00151149 0.0010324  0.0010324  0.0010324  0.00151149 0.0010324\n",
      " 0.00151149 0.0010324  0.0010324  0.0010324  0.0010324  0.0010324\n",
      " 0.0010324  0.0006774  0.0010324  0.0010324  0.0010324  0.0010324\n",
      " 0.0010324  0.0010324  0.0010324  0.0010324  0.0010324  0.0010324\n",
      " 0.0010324  0.0010324  0.0010324  0.0010324  0.0006774  0.0010324\n",
      " 0.0010324  0.00042293 0.0010324  0.0010324  0.0010324  0.0006774\n",
      " 0.0010324  0.0010324  0.0010324  0.00151149 0.0010324  0.0010324\n",
      " 0.0010324  0.0010324  0.00042293 0.0010324  0.0010324  0.0010324\n",
      " 0.0010324  0.0010324  0.0010324  0.0006774  0.0010324  0.0010324\n",
      " 0.0006774  0.0010324  0.0010324  0.0010324  0.0010324  0.0010324\n",
      " 0.0010324  0.0010324  0.0006774  0.0010324  0.0006774  0.0010324\n",
      " 0.0006774  0.0010324  0.0010324  0.0010324  0.00151149 0.0010324\n",
      " 0.0010324  0.0010324  0.0010324  0.0010324  0.0010324  0.0010324\n",
      " 0.0010324  0.0010324  0.0010324  0.0010324  0.0010324  0.0010324\n",
      " 0.0010324  0.0010324  0.0010324  0.0010324  0.00151149 0.0006774\n",
      " 0.0010324  0.0010324  0.0010324  0.0010324  0.0006774  0.0010324\n",
      " 0.0010324  0.0010324  0.0010324  0.0010324  0.0010324  0.0006774\n",
      " 0.0006774  0.0010324  0.00151149 0.0006774  0.0006774  0.0010324\n",
      " 0.0006774  0.0010324  0.00151149 0.00151149 0.0010324  0.0010324\n",
      " 0.0010324  0.0010324  0.0010324  0.0010324  0.0010324  0.0010324\n",
      " 0.0010324  0.0010324  0.0010324  0.0010324  0.0010324  0.0010324\n",
      " 0.0006774  0.0010324  0.0010324  0.0010324  0.0010324  0.0010324\n",
      " 0.0010324  0.0010324  0.0010324  0.0010324  0.0010324  0.0010324\n",
      " 0.0010324  0.0010324  0.0006774  0.0010324  0.0010324  0.0006774\n",
      " 0.0010324  0.0010324  0.0010324  0.0010324  0.0006774  0.0006774\n",
      " 0.0010324  0.0010324  0.0010324  0.0006774  0.00042293 0.0010324\n",
      " 0.0010324  0.0010324  0.0010324  0.0010324  0.0010324  0.0010324\n",
      " 0.0006774  0.0010324  0.0010324  0.0010324  0.0006774  0.0010324\n",
      " 0.0010324  0.0006774  0.0010324  0.0010324  0.0006774  0.0010324\n",
      " 0.0010324  0.0010324  0.0010324  0.0010324  0.0010324  0.0010324\n",
      " 0.0010324  0.0010324  0.0010324  0.0010324  0.0010324  0.0010324\n",
      " 0.0010324  0.0010324  0.0010324  0.0010324  0.0010324  0.0010324\n",
      " 0.0010324  0.0010324  0.0010324  0.0010324  0.0006774  0.00151149\n",
      " 0.0010324  0.0010324  0.0010324  0.0010324  0.0010324  0.0010324\n",
      " 0.0010324  0.0010324  0.0010324  0.0010324  0.0006774  0.0010324\n",
      " 0.0010324  0.00151149 0.0010324  0.0010324  0.0010324  0.0010324\n",
      " 0.0010324  0.0010324  0.0010324  0.0010324  0.0010324  0.0010324\n",
      " 0.0010324  0.0010324  0.0006774  0.0010324  0.0006774  0.0010324\n",
      " 0.0010324  0.0010324  0.0010324  0.00151149 0.0010324  0.0010324\n",
      " 0.0010324  0.0010324  0.0010324  0.0010324  0.0006774  0.0010324\n",
      " 0.0010324  0.0010324  0.0006774  0.0010324  0.0010324  0.0010324\n",
      " 0.0010324  0.0006774  0.0010324  0.0010324  0.0010324  0.0010324\n",
      " 0.0006774  0.0010324  0.0010324  0.0010324  0.0010324  0.00151149\n",
      " 0.0010324  0.0010324  0.0010324  0.0010324  0.0006774  0.0006774\n",
      " 0.0010324  0.0010324  0.0010324  0.0010324  0.0010324  0.0006774\n",
      " 0.0010324  0.00151149 0.0010324  0.0010324  0.0010324  0.0010324\n",
      " 0.0010324  0.0010324  0.0006774  0.0010324  0.0010324  0.00151149\n",
      " 0.0006774  0.0010324  0.0010324  0.0010324  0.0010324  0.00151149\n",
      " 0.0010324  0.00151149 0.0010324  0.0010324  0.0010324  0.0010324\n",
      " 0.0010324  0.0006774  0.0010324  0.0006774  0.0010324  0.0010324\n",
      " 0.0010324  0.0010324  0.0010324  0.0006774  0.0010324  0.0010324\n",
      " 0.0010324  0.0006774  0.0010324  0.0010324  0.0010324  0.0006774\n",
      " 0.0010324  0.0006774  0.0010324  0.0006774  0.0010324  0.0010324\n",
      " 0.0010324  0.0010324  0.0010324  0.0010324  0.0006774  0.0010324\n",
      " 0.0010324  0.0006774  0.0010324  0.0010324  0.00151149 0.0010324\n",
      " 0.0010324  0.0010324  0.0010324  0.0006774  0.0010324  0.00151149\n",
      " 0.0010324  0.0010324  0.0006774  0.0010324  0.0006774  0.0010324\n",
      " 0.0006774  0.0010324  0.0010324  0.0006774  0.0010324  0.0010324\n",
      " 0.0010324  0.0010324  0.0010324  0.0010324  0.0010324  0.0006774\n",
      " 0.0010324  0.0006774  0.0010324  0.0010324  0.0010324  0.0010324\n",
      " 0.0006774  0.0010324  0.0010324  0.0010324  0.0010324  0.0010324\n",
      " 0.0010324  0.0010324  0.0010324  0.0010324  0.0010324  0.0010324\n",
      " 0.0010324  0.0010324  0.0010324  0.0010324  0.0006774  0.0010324\n",
      " 0.0010324  0.0006774  0.0006774  0.0010324  0.0006774  0.0010324\n",
      " 0.0010324  0.00042293 0.0010324  0.0010324  0.0006774  0.0010324\n",
      " 0.0010324  0.0010324  0.0006774  0.0006774  0.0010324  0.0010324\n",
      " 0.0006774  0.0006774  0.0010324  0.0006774  0.0010324  0.0010324\n",
      " 0.0010324  0.0010324  0.0010324  0.0010324  0.0010324  0.0010324\n",
      " 0.0010324  0.0010324  0.0010324  0.0010324  0.0006774  0.0010324\n",
      " 0.0010324  0.0010324  0.0006774  0.0010324  0.0006774  0.0010324\n",
      " 0.0010324  0.0010324  0.0010324  0.0010324  0.0010324  0.0010324\n",
      " 0.0010324  0.0010324  0.0010324  0.0010324  0.0010324  0.00151149\n",
      " 0.0010324  0.0010324  0.0010324  0.00151149 0.0010324  0.0010324\n",
      " 0.0010324  0.0006774  0.0010324  0.0006774  0.0010324  0.0010324\n",
      " 0.0006774  0.0010324  0.0010324  0.0006774  0.0010324  0.0010324\n",
      " 0.0010324  0.0010324  0.0010324  0.0010324  0.0010324  0.0010324\n",
      " 0.0006774  0.0006774  0.0010324  0.0010324  0.0010324  0.0010324\n",
      " 0.0010324  0.0010324  0.0010324  0.0010324  0.0010324  0.0010324\n",
      " 0.0006774  0.0010324  0.0010324  0.0010324  0.00151149 0.0010324\n",
      " 0.0010324  0.0010324  0.0010324  0.0010324  0.0010324  0.0010324\n",
      " 0.0010324  0.0010324  0.0010324  0.0006774  0.00151149 0.0010324\n",
      " 0.0006774  0.0010324  0.0010324  0.0010324  0.0010324  0.0006774\n",
      " 0.00151149 0.0010324  0.0006774  0.0010324  0.0010324  0.00151149\n",
      " 0.0006774  0.0010324  0.0010324  0.0010324  0.0010324  0.0010324\n",
      " 0.0010324  0.0006774  0.0010324  0.0006774  0.0010324  0.0010324\n",
      " 0.0006774  0.0010324  0.0010324  0.0010324  0.0010324  0.0006774\n",
      " 0.0010324  0.0010324  0.0010324  0.0010324  0.0010324  0.0010324\n",
      " 0.0010324  0.0010324  0.0010324  0.0010324  0.0010324  0.0010324\n",
      " 0.0010324  0.0010324  0.0006774  0.0010324  0.0010324  0.0006774\n",
      " 0.0006774  0.0010324  0.0010324  0.0010324  0.0006774  0.00042293\n",
      " 0.0010324  0.0010324  0.0006774  0.0010324  0.0006774  0.0010324\n",
      " 0.0010324  0.00151149 0.0010324  0.0010324  0.0006774  0.0010324\n",
      " 0.0010324  0.0006774  0.0010324  0.0010324  0.0006774  0.0010324\n",
      " 0.0010324  0.0010324  0.0010324  0.0010324  0.00151149 0.0010324\n",
      " 0.0010324  0.0006774  0.0010324  0.0010324  0.0010324  0.0010324\n",
      " 0.0010324  0.00151149 0.0010324  0.0010324  0.0010324  0.0010324\n",
      " 0.0010324  0.0010324  0.0010324  0.0010324  0.0010324  0.0010324\n",
      " 0.0010324  0.0010324  0.0010324  0.0010324  0.0010324  0.0010324\n",
      " 0.0010324  0.0006774  0.00151149 0.0010324  0.0006774  0.0010324\n",
      " 0.0010324  0.0010324  0.0006774  0.00151149 0.0010324  0.0010324\n",
      " 0.0010324  0.0010324  0.0010324  0.00214068 0.0010324  0.0010324\n",
      " 0.0010324  0.0010324  0.0006774  0.0010324  0.0010324  0.0010324\n",
      " 0.0010324  0.0010324  0.0006774  0.0010324  0.0010324  0.0010324\n",
      " 0.0006774  0.0006774  0.0010324  0.0010324  0.0010324  0.00151149\n",
      " 0.0010324  0.0010324  0.0010324  0.0006774  0.0010324  0.0010324\n",
      " 0.0010324  0.0010324  0.0006774  0.0010324  0.0010324  0.0010324\n",
      " 0.0010324  0.0010324  0.0006774  0.0010324  0.0010324  0.0010324\n",
      " 0.0010324  0.0010324  0.0006774  0.0010324  0.0010324  0.0010324\n",
      " 0.0010324  0.0010324  0.00151149 0.0006774  0.00151149 0.0010324\n",
      " 0.0010324  0.0006774  0.0010324  0.0010324  0.00151149 0.0010324\n",
      " 0.0010324  0.0010324  0.0010324  0.0010324  0.0006774  0.00151149\n",
      " 0.0006774  0.0010324  0.0006774  0.0010324  0.0010324  0.0010324\n",
      " 0.00151149 0.0010324  0.0010324  0.0006774  0.0010324  0.0010324\n",
      " 0.0010324  0.00151149 0.0006774  0.0010324  0.00151149 0.0010324\n",
      " 0.0006774  0.0010324  0.0006774  0.0010324  0.0010324  0.0010324\n",
      " 0.0010324  0.0006774  0.0010324  0.0010324  0.0010324  0.0010324\n",
      " 0.0010324  0.0010324  0.0010324  0.0010324  0.0010324  0.0010324\n",
      " 0.0010324  0.0010324  0.0010324  0.0010324  0.0010324  0.0010324\n",
      " 0.0010324  0.0010324  0.0010324  0.00151149 0.0010324  0.0006774\n",
      " 0.0010324  0.0010324  0.00151149 0.0010324  0.0010324  0.0010324\n",
      " 0.0010324  0.0010324  0.0010324  0.0010324  0.00151149 0.0010324\n",
      " 0.0010324  0.0010324  0.0010324  0.0006774  0.0010324  0.0010324\n",
      " 0.0010324  0.0010324  0.0010324  0.0010324  0.0010324  0.0010324\n",
      " 0.0010324  0.0010324  0.0010324  0.0006774  0.0006774  0.0010324\n",
      " 0.0010324  0.0010324  0.0006774  0.0006774  0.0006774  0.0010324\n",
      " 0.0010324  0.0010324  0.0010324  0.0010324  0.0010324  0.0010324\n",
      " 0.0010324  0.0010324  0.0006774  0.0010324  0.0006774  0.0010324\n",
      " 0.0010324  0.0006774  0.00151149 0.00151149 0.0010324  0.0006774\n",
      " 0.0010324  0.00151149 0.0010324  0.0010324  0.00151149 0.0010324\n",
      " 0.0010324  0.0006774  0.0010324  0.0010324  0.0010324  0.0010324\n",
      " 0.00042293 0.0010324  0.0010324  0.0010324  0.0010324  0.0006774\n",
      " 0.0010324  0.0010324  0.0010324  0.0006774  0.0006774  0.0006774\n",
      " 0.00151149 0.0006774  0.0006774  0.0010324  0.0010324  0.0006774\n",
      " 0.0010324  0.0010324  0.0010324  0.0006774  0.0010324  0.0010324\n",
      " 0.0006774  0.0006774  0.0010324  0.0010324  0.0010324  0.0010324\n",
      " 0.0010324  0.00151149 0.0010324  0.0010324  0.0006774  0.00151149\n",
      " 0.00151149 0.0010324  0.0010324  0.0010324  0.00151149 0.0010324\n",
      " 0.0010324  0.0006774  0.0010324  0.0010324  0.0010324  0.0010324\n",
      " 0.0010324  0.0010324  0.0010324  0.0010324  0.0010324  0.00151149\n",
      " 0.0010324  0.0010324  0.0006774  0.0010324  0.0010324  0.0006774\n",
      " 0.00151149 0.0010324  0.0010324  0.0010324  0.00151149 0.0010324\n",
      " 0.0010324  0.0006774  0.0010324  0.0010324  0.0010324  0.0010324\n",
      " 0.0006774  0.0010324  0.0010324  0.0010324  0.0010324  0.0006774\n",
      " 0.0010324  0.0010324  0.0010324  0.0010324  0.0010324  0.0010324\n",
      " 0.00151149 0.0006774  0.0010324  0.00151149 0.0010324  0.0010324\n",
      " 0.0010324  0.0010324  0.0010324  0.0010324  0.0010324  0.0010324\n",
      " 0.0006774  0.0006774  0.0010324  0.0010324  0.0010324  0.0010324\n",
      " 0.0010324  0.0010324  0.0010324  0.0010324  0.0010324  0.0010324\n",
      " 0.0010324  0.0010324  0.0010324  0.0006774  0.0010324  0.0010324\n",
      " 0.0006774  0.0010324  0.0010324  0.0010324  0.0010324  0.0010324\n",
      " 0.0010324  0.0010324  0.0010324  0.0010324  0.0010324  0.0010324\n",
      " 0.0010324  0.0010324  0.0010324  0.0010324  0.0010324  0.0006774\n",
      " 0.0010324  0.0010324  0.00042293 0.0010324 ]\n"
     ]
    }
   ],
   "source": [
    "classifier = DecisionTreeClassifier(max_depth=1, random_state=1)\n",
    "classifier.fit(X=train_set, y=train_labels)\n",
    "alphas = []\n",
    "classifiers = []\n",
    "for iteration in range(number_of_iterations):\n",
    "    model = train_model(classifier, weights)\n",
    "    weights = set_new_weights(model)\n",
    "    classifiers.append(model)\n",
    "\n",
    "print(weights)\n",
    "\n",
    "\n",
    "validate_x, validate_label = generate_data(1, dimension, labels)"
   ]
  },
  {
   "cell_type": "markdown",
   "metadata": {},
   "source": [
    "Set the validation data set:"
   ]
  },
  {
   "cell_type": "code",
   "execution_count": 145,
   "metadata": {},
   "outputs": [],
   "source": [
    "validate_x, validate_label = generate_data(1, dimension, labels)"
   ]
  },
  {
   "cell_type": "markdown",
   "metadata": {},
   "source": [
    "Fill the prediction code:"
   ]
  },
  {
   "cell_type": "code",
   "execution_count": 146,
   "metadata": {},
   "outputs": [],
   "source": [
    "def get_prediction(x):\n",
    "    output = []\n",
    "    for classifier in classifiers:\n",
    "        output.append(classifier.predict(validate_x))\n",
    "    output = np.array(output)\n",
    "\n",
    "    predicted = []\n",
    "    for i in range(len(validate_x)):\n",
    "        classified = output[:, i]\n",
    "        counts = np.bincount(classified)\n",
    "        predicted.append(np.argmax(counts))\n",
    "    return predicted\n"
   ]
  },
  {
   "cell_type": "markdown",
   "metadata": {},
   "source": [
    "Test it:"
   ]
  },
  {
   "cell_type": "code",
   "execution_count": 147,
   "metadata": {},
   "outputs": [
    {
     "name": "stdout",
     "output_type": "stream",
     "text": [
      "1\n"
     ]
    }
   ],
   "source": [
    "prediction = get_prediction(validate_x)[0]\n",
    "print(prediction)"
   ]
  },
  {
   "cell_type": "code",
   "execution_count": null,
   "metadata": {},
   "outputs": [],
   "source": []
  },
  {
   "cell_type": "code",
   "execution_count": null,
   "metadata": {},
   "outputs": [],
   "source": []
  }
 ],
 "metadata": {
  "kernelspec": {
   "display_name": "Python 3",
   "language": "python",
   "name": "python3"
  },
  "language_info": {
   "codemirror_mode": {
    "name": "ipython",
    "version": 3
   },
   "file_extension": ".py",
   "mimetype": "text/x-python",
   "name": "python",
   "nbconvert_exporter": "python",
   "pygments_lexer": "ipython3",
   "version": "3.7.1"
  }
 },
 "nbformat": 4,
 "nbformat_minor": 2
}
